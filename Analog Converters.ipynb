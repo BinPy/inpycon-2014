{
 "metadata": {
  "name": "",
  "signature": "sha256:3810c23432ff28e8762fa926c05c91ca77bcefb367518afaff4377fb198824bd"
 },
 "nbformat": 3,
 "nbformat_minor": 0,
 "worksheets": [
  {
   "cells": [
    {
     "cell_type": "heading",
     "level": 2,
     "metadata": {},
     "source": [
      "Example to illustrate the usage of Analog Converter modules in BinPy."
     ]
    },
    {
     "cell_type": "code",
     "collapsed": false,
     "input": [
      "from BinPy import *"
     ],
     "language": "python",
     "metadata": {},
     "outputs": [],
     "prompt_number": 1
    },
    {
     "cell_type": "heading",
     "level": 4,
     "metadata": {},
     "source": [
      "Analog to Digital Converter module - A2D"
     ]
    },
    {
     "cell_type": "code",
     "collapsed": false,
     "input": [
      "# Initiating the input analog Bus\n",
      "input_analog = Bus(Connector(voltage = 3.2))\n",
      "input_analog.set_type(analog=True)"
     ],
     "language": "python",
     "metadata": {},
     "outputs": [],
     "prompt_number": 2
    },
    {
     "cell_type": "code",
     "collapsed": false,
     "input": [
      "# Initiating the output digital Bus\n",
      "output_digital = Bus(16)\n",
      "\n",
      "# Building the power supply\n",
      "VREF = Connector(voltage = 5.0)\n",
      "GND = Connector(voltage = 0)"
     ],
     "language": "python",
     "metadata": {},
     "outputs": [],
     "prompt_number": 3
    },
    {
     "cell_type": "code",
     "collapsed": false,
     "input": [
      "# Initializing the A2D converter\n",
      "a2d_16bit = A2D(input_analog, output_digital, 3, VREF, GND, scale=0.5 )"
     ],
     "language": "python",
     "metadata": {},
     "outputs": [],
     "prompt_number": 4
    },
    {
     "cell_type": "code",
     "collapsed": false,
     "input": [
      "time.sleep(0.5) # Setup time\n",
      "print output_digital.get_logic_all(as_list = False)"
     ],
     "language": "python",
     "metadata": {},
     "outputs": [
      {
       "output_type": "stream",
       "stream": "stdout",
       "text": [
        "0b0101000111101011\n"
       ]
      }
     ],
     "prompt_number": 5
    },
    {
     "cell_type": "code",
     "collapsed": false,
     "input": [
      "# Varying the input\n",
      "input_analog[0].set_voltage(3.2)\n",
      "time.sleep(0.5) # To allow conversion to take place."
     ],
     "language": "python",
     "metadata": {},
     "outputs": [],
     "prompt_number": 6
    },
    {
     "cell_type": "code",
     "collapsed": false,
     "input": [
      "print output_digital.get_logic_all(as_list = False)"
     ],
     "language": "python",
     "metadata": {},
     "outputs": [
      {
       "output_type": "stream",
       "stream": "stdout",
       "text": [
        "0b0101000111101011\n"
       ]
      }
     ],
     "prompt_number": 7
    },
    {
     "cell_type": "code",
     "collapsed": false,
     "input": [
      "# 64 Bit A2D Converter\n",
      "ieee_64bit = Bus(64)\n",
      "a2d_IEEE64 = A2D(input_analog, ieee_64bit, 5)\n",
      "time.sleep(0.5) # To allow conversion to take place.\n",
      "print ieee_64bit.get_logic_all(as_list = False)"
     ],
     "language": "python",
     "metadata": {},
     "outputs": [
      {
       "output_type": "stream",
       "stream": "stdout",
       "text": [
        "0b0100000000001001100110011001100110011001100110011001100110011010\n"
       ]
      }
     ],
     "prompt_number": 8
    },
    {
     "cell_type": "heading",
     "level": 5,
     "metadata": {},
     "source": [
      "Refer : http://babbage.cs.qc.cuny.edu/IEEE-754.old/Decimal.html"
     ]
    },
    {
     "cell_type": "heading",
     "level": 4,
     "metadata": {},
     "source": [
      "Digital to Analog Converter module - D2A"
     ]
    },
    {
     "cell_type": "code",
     "collapsed": false,
     "input": [
      "# Output Bus-es\n",
      "output_of_D2A   = Bus(Connector(voltage = 0.0))\n",
      "output_of_D2A.set_type(analog = True)\n",
      "\n",
      "# Input Bus\n",
      "input_digital = output_digital # The input_digital refers to the output_digital, the output of the A2D of the last section"
     ],
     "language": "python",
     "metadata": {},
     "outputs": [],
     "prompt_number": 9
    },
    {
     "cell_type": "code",
     "collapsed": false,
     "input": [
      "d2a_16bit = D2A(input_digital, output_of_D2A, 3, VREF, GND, scale = 2)\n",
      "time.sleep(0.1) # Setup time"
     ],
     "language": "python",
     "metadata": {},
     "outputs": [],
     "prompt_number": 10
    },
    {
     "cell_type": "code",
     "collapsed": false,
     "input": [
      "print output_of_D2A[0].get_voltage()"
     ],
     "language": "python",
     "metadata": {},
     "outputs": [
      {
       "output_type": "stream",
       "stream": "stdout",
       "text": [
        "3.1999206543\n"
       ]
      }
     ],
     "prompt_number": 11
    },
    {
     "cell_type": "code",
     "collapsed": false,
     "input": [
      "ieee_packed = Bus(1)\n",
      "ieee_packed.set_type(analog = True)\n",
      "d2a_ieee64 = D2A(ieee_64bit, ieee_packed, 5) # Setting the input from the output of the previous A2D Block\n",
      "time.sleep(0.1) # Setup time"
     ],
     "language": "python",
     "metadata": {},
     "outputs": [],
     "prompt_number": 12
    },
    {
     "cell_type": "code",
     "collapsed": false,
     "input": [
      "print  ieee_packed[0].get_voltage()"
     ],
     "language": "python",
     "metadata": {},
     "outputs": [
      {
       "output_type": "stream",
       "stream": "stdout",
       "text": [
        "3.2\n"
       ]
      }
     ],
     "prompt_number": 13
    }
   ],
   "metadata": {}
  }
 ]
}