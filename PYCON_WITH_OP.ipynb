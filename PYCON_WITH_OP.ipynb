{
 "metadata": {
  "name": "",
  "signature": "sha256:5e6876649a5354a6fa11451b6c77c1905f88ec21927007b15395f250404f6c8b"
 },
 "nbformat": 3,
 "nbformat_minor": 0,
 "worksheets": [
  {
   "cells": [
    {
     "cell_type": "code",
     "collapsed": false,
     "input": [
      "# Imports\n",
      "from BinPy import *"
     ],
     "language": "python",
     "metadata": {},
     "outputs": [],
     "prompt_number": 1
    },
    {
     "cell_type": "markdown",
     "metadata": {},
     "source": [
      "###Logic Gates Example - 2 Input / Multi Input Logic Gates\n",
      "\n",
      "BinPy has basic logic gates like AND, OR, XOR, XNOR, NAND and NOR which accepts both numeric inputs as well as connector inputs."
     ]
    },
    {
     "cell_type": "code",
     "collapsed": false,
     "input": [
      "# XOR GATE in BinPy\n",
      "\n",
      "# Create a gate instance\n",
      "xor1 = XOR(1, 0, 0, 1, 1, 1, 1, 1, 1, 1, 1, 1)\n",
      "\n",
      "xor1.output()"
     ],
     "language": "python",
     "metadata": {},
     "outputs": [
      {
       "metadata": {},
       "output_type": "pyout",
       "prompt_number": 2,
       "text": [
        "0"
       ]
      }
     ],
     "prompt_number": 2
    },
    {
     "cell_type": "code",
     "collapsed": false,
     "input": [
      "# Using a Connector in BinPy\n",
      "\n",
      "A = Connector(1) # input 1\n",
      "B = Connector(0) # input 2\n",
      "C = Connector()  # output\n",
      "\n",
      "xor1.set_inputs(A, B)  # Overrides previous inputs\n",
      "xor1.set_output(C)"
     ],
     "language": "python",
     "metadata": {},
     "outputs": [],
     "prompt_number": 3
    },
    {
     "cell_type": "code",
     "collapsed": false,
     "input": [
      "C.get_logic() # or use C.state"
     ],
     "language": "python",
     "metadata": {},
     "outputs": [
      {
       "metadata": {},
       "output_type": "pyout",
       "prompt_number": 4,
       "text": [
        "1"
       ]
      }
     ],
     "prompt_number": 4
    },
    {
     "cell_type": "code",
     "collapsed": false,
     "input": [
      "A.set_logic(0);\n",
      "C.get_logic()"
     ],
     "language": "python",
     "metadata": {},
     "outputs": [
      {
       "metadata": {},
       "output_type": "pyout",
       "prompt_number": 5,
       "text": [
        "0"
       ]
      }
     ],
     "prompt_number": 5
    },
    {
     "cell_type": "markdown",
     "metadata": {},
     "source": [
      "###Usage of Bus object in BinPy"
     ]
    },
    {
     "cell_type": "code",
     "collapsed": false,
     "input": [
      "# Using Bus in BinPy"
     ],
     "language": "python",
     "metadata": {},
     "outputs": [],
     "prompt_number": 6
    },
    {
     "cell_type": "code",
     "collapsed": false,
     "input": [
      "# Initiating the Bus with connectors\n",
      "\n",
      "bit_1 = Connector(0)\n",
      "bit_2 = Connector(1)\n",
      "bit_3 = Connector(0)\n",
      "bit_4 = Connector(0)\n",
      "\n",
      "bus_a = Bus(bit_1, bit_2, bit_3, bit_4)"
     ],
     "language": "python",
     "metadata": {},
     "outputs": [],
     "prompt_number": 7
    },
    {
     "cell_type": "code",
     "collapsed": false,
     "input": [
      "# Probing the logic of the Bus\n",
      "\n",
      "bus_a.get_logic_all(as_list=False)"
     ],
     "language": "python",
     "metadata": {},
     "outputs": [
      {
       "metadata": {},
       "output_type": "pyout",
       "prompt_number": 8,
       "text": [
        "'0b0100'"
       ]
      }
     ],
     "prompt_number": 8
    },
    {
     "cell_type": "code",
     "collapsed": false,
     "input": [
      "# Probing the voltage of the Bus -- The logic states can be represented by a 5v logic\n",
      "# To get another logic family edit the binpy.config file to set the desired logic HIGH and logic LOW parameters\n",
      "\n",
      "bus_a.get_voltage_all()"
     ],
     "language": "python",
     "metadata": {},
     "outputs": [
      {
       "metadata": {},
       "output_type": "pyout",
       "prompt_number": 9,
       "text": [
        "[0.0, 5.0, 0.0, 0.0]"
       ]
      }
     ],
     "prompt_number": 9
    },
    {
     "cell_type": "code",
     "collapsed": false,
     "input": [
      "# Creating another Bus from an existing Bus\n",
      "\n",
      "bus_b = Bus(bus_a)\n",
      "\n",
      "bus_b.get_voltage_all()"
     ],
     "language": "python",
     "metadata": {},
     "outputs": [
      {
       "metadata": {},
       "output_type": "pyout",
       "prompt_number": 10,
       "text": [
        "[0.0, 5.0, 0.0, 0.0]"
       ]
      }
     ],
     "prompt_number": 10
    },
    {
     "cell_type": "code",
     "collapsed": false,
     "input": [
      "# Concatenating the two Bus-es\n",
      "\n",
      "bus_c = bus_a + bus_b\n",
      "\n",
      "bus_c"
     ],
     "language": "python",
     "metadata": {},
     "outputs": [
      {
       "metadata": {},
       "output_type": "pyout",
       "prompt_number": 11,
       "text": [
        "[0, 1, 0, 0, 0, 1, 0, 0]"
       ]
      }
     ],
     "prompt_number": 11
    },
    {
     "cell_type": "code",
     "collapsed": false,
     "input": [
      "# Copying values between buses\n",
      "\n",
      "bus_d = Bus(8) # 8 indicates the length of the Bus. By default all busses will be digital in type\n",
      "\n",
      "print (bus_d)"
     ],
     "language": "python",
     "metadata": {},
     "outputs": [
      {
       "output_type": "stream",
       "stream": "stdout",
       "text": [
        "[None, None, None, None, None, None, None, None]\n"
       ]
      }
     ],
     "prompt_number": 12
    },
    {
     "cell_type": "code",
     "collapsed": false,
     "input": [
      "bus_d.copy_values_from(bus_c)\n",
      "print (bus_d)"
     ],
     "language": "python",
     "metadata": {},
     "outputs": [
      {
       "output_type": "stream",
       "stream": "stdout",
       "text": [
        "[0, 1, 0, 0, 0, 1, 0, 0]\n"
       ]
      }
     ],
     "prompt_number": 13
    },
    {
     "cell_type": "code",
     "collapsed": false,
     "input": [
      "# Iterating through a bus and setting names ( TAG's ) for connectors\n",
      "i = 7\n",
      "for connector in bus_d:\n",
      "    connector.set_name(\"B\"+str(i))\n",
      "    print ( connector )\n",
      "    i -= 1"
     ],
     "language": "python",
     "metadata": {},
     "outputs": [
      {
       "output_type": "stream",
       "stream": "stdout",
       "text": [
        "Connector; Name: B7; Index: 41; State: 0\n",
        "Connector; Name: B6; Index: 42; State: 1\n",
        "Connector; Name: B5; Index: 43; State: 0\n",
        "Connector; Name: B4; Index: 44; State: 0\n",
        "Connector; Name: B3; Index: 45; State: 0\n",
        "Connector; Name: B2; Index: 46; State: 1\n",
        "Connector; Name: B1; Index: 47; State: 0\n",
        "Connector; Name: B0; Index: 48; State: 0\n"
       ]
      }
     ],
     "prompt_number": 14
    },
    {
     "cell_type": "code",
     "collapsed": false,
     "input": [
      "# Probing the connector tags of each bus\n",
      "    \n",
      "print (\" \".join( [ connector.name for connector in bus_d ]))"
     ],
     "language": "python",
     "metadata": {},
     "outputs": [
      {
       "output_type": "stream",
       "stream": "stdout",
       "text": [
        "B7 B6 B5 B4 B3 B2 B1 B0\n"
       ]
      }
     ],
     "prompt_number": 15
    },
    {
     "cell_type": "code",
     "collapsed": false,
     "input": [
      "# Analog Bus\n",
      "\n",
      "PWR = Bus(Connector(voltage=5.2), Connector(voltage=0))\n",
      "\n",
      "print (PWR)"
     ],
     "language": "python",
     "metadata": {},
     "outputs": [
      {
       "output_type": "stream",
       "stream": "stdout",
       "text": [
        "[5.2, 0.0]\n"
       ]
      }
     ],
     "prompt_number": 16
    },
    {
     "cell_type": "code",
     "collapsed": false,
     "input": [
      "# Bus is an abstraction over the python lists, so you can do all list operations on it\n",
      "\n",
      "# Slicing Bus-es\n",
      "\n",
      "bus_e = Bus(bus_d[:-4])\n",
      "\n",
      "print (bus_e == bus_b)"
     ],
     "language": "python",
     "metadata": {},
     "outputs": [
      {
       "output_type": "stream",
       "stream": "stdout",
       "text": [
        "True\n"
       ]
      }
     ],
     "prompt_number": 17
    },
    {
     "cell_type": "code",
     "collapsed": false,
     "input": [
      "# Circulary rotating the bits of the Bus-es\n",
      "\n",
      "print (\"Before rotation, bus_e : \", bus_e)\n",
      "\n",
      "print (\"After circularly rotating right by 3 positions, bits of bus_e: \", bus_e >> 3) \n",
      "\n",
      "# Note that this returns a list of the Connectors and not a bus object. Use Bus(bus_e>>2) to return a Bus object\n",
      "\n",
      "print (\"After circularly rotating left by 3 positions, bits of bus_e: \", bus_e << 3)"
     ],
     "language": "python",
     "metadata": {},
     "outputs": [
      {
       "output_type": "stream",
       "stream": "stdout",
       "text": [
        "('Before rotation, bus_e : ', [0, 1, 0, 0])\n",
        "('After circularly rotating right by 3 positions, bits of bus_e: ', [1, 0, 0, 0])\n",
        "('After circularly rotating left by 3 positions, bits of bus_e: ', [0, 0, 1, 0])\n"
       ]
      }
     ],
     "prompt_number": 18
    },
    {
     "cell_type": "markdown",
     "metadata": {},
     "source": [
      "###Linker Module Example \n",
      "\n",
      "BinPy's linker modules stores all the connection in a NetworkX Graph data structure and traverses trought it iteratively in the background to reflect changes to the outputs / inputs of the ports.\n",
      "\n",
      "Simulating the below connection ( drawn using KiCAD ) using BinPy's Linker module.\n",
      "\n",
      "<img src=\"BUS_EX1.png\" />"
     ]
    },
    {
     "cell_type": "code",
     "collapsed": false,
     "input": [
      "# Using the linker module to connect two Bus-es\n",
      "CNTRL_V = Bus(4)\n",
      "\n",
      "CNTRL_V.set_voltage_all(5.0,5.0,2.0,2.5)\n",
      "\n",
      "VCC = Bus(Connector(voltage = 5.2), Connector(voltage=0))"
     ],
     "language": "python",
     "metadata": {},
     "outputs": [],
     "prompt_number": 19
    },
    {
     "cell_type": "code",
     "collapsed": false,
     "input": [
      "SLAVE0, SLAVE1 = Bus(4), Bus(4)\n",
      "\n",
      "SLAVE0.set_type(analog = True)\n",
      "SLAVE1.set_type(analog = True)\n",
      "\n",
      "# Connecting the first two bits of CNTRL_V to the middle two bits of SLAVE0\n",
      "AutoUpdater.add_link(CNTRL_V[:2], SLAVE0[1:-1])\n",
      "\n",
      "# Connecting the last two bits of CNTRL_V to the middle two bits of SLAVE1\n",
      "AutoUpdater.add_link(CNTRL_V[-2:], SLAVE1[1:-1])\n",
      "\n",
      "# Impressing 5v and 0v on the SLAVE0 Bus\n",
      "AutoUpdater.add_link(VCC[0], SLAVE0[0])\n",
      "AutoUpdater.add_link(VCC[1], SLAVE0[-1])\n",
      "\n",
      "# Impressing 5v and 0v on the SLAVE1 Bus\n",
      "AutoUpdater.add_link(VCC[0], SLAVE1[0])\n",
      "AutoUpdater.add_link(VCC[1], SLAVE1[-1])"
     ],
     "language": "python",
     "metadata": {},
     "outputs": [],
     "prompt_number": 20
    },
    {
     "cell_type": "code",
     "collapsed": false,
     "input": [
      "print (SLAVE0.get_voltage_all())"
     ],
     "language": "python",
     "metadata": {},
     "outputs": [
      {
       "output_type": "stream",
       "stream": "stdout",
       "text": [
        "[5.2, 5.0, 5.0, 0.0]\n"
       ]
      }
     ],
     "prompt_number": 21
    },
    {
     "cell_type": "code",
     "collapsed": false,
     "input": [
      "print (SLAVE1.get_voltage_all())"
     ],
     "language": "python",
     "metadata": {},
     "outputs": [
      {
       "output_type": "stream",
       "stream": "stdout",
       "text": [
        "[5.2, 2.0, 2.5, 0.0]\n"
       ]
      }
     ],
     "prompt_number": 22
    },
    {
     "cell_type": "code",
     "collapsed": false,
     "input": [
      "CNTRL_V.set_voltage_all(5.0, 6.0, 2.0, 1.1)"
     ],
     "language": "python",
     "metadata": {},
     "outputs": [],
     "prompt_number": 23
    },
    {
     "cell_type": "code",
     "collapsed": false,
     "input": [
      "# The Slave Bus-es have been updated with the updated voltage in CNTRL_V\n",
      "\n",
      "print (SLAVE0.get_voltage_all())"
     ],
     "language": "python",
     "metadata": {},
     "outputs": [
      {
       "output_type": "stream",
       "stream": "stdout",
       "text": [
        "[5.2, 5.0, 6.0, 0.0]\n"
       ]
      }
     ],
     "prompt_number": 24
    },
    {
     "cell_type": "code",
     "collapsed": false,
     "input": [
      "print (SLAVE1.get_voltage_all())"
     ],
     "language": "python",
     "metadata": {},
     "outputs": [
      {
       "output_type": "stream",
       "stream": "stdout",
       "text": [
        "[5.2, 2.0, 1.1, 0.0]\n"
       ]
      }
     ],
     "prompt_number": 25
    },
    {
     "cell_type": "code",
     "collapsed": false,
     "input": [
      "# Unlinking the SLAVE0 from CNTRL_V\n",
      "\n",
      "AutoUpdater.remove_link(SLAVE0[1:-1]) # Only the middle 2 ports are connected to CNTRL_V\n",
      "# VCC is still connected to SLAVE0"
     ],
     "language": "python",
     "metadata": {},
     "outputs": [],
     "prompt_number": 26
    },
    {
     "cell_type": "code",
     "collapsed": false,
     "input": [
      "CNTRL_V.set_voltage_all(3.0, 2, 1, 6.2)"
     ],
     "language": "python",
     "metadata": {},
     "outputs": [],
     "prompt_number": 27
    },
    {
     "cell_type": "code",
     "collapsed": false,
     "input": [
      "# SLAVE0 Retains the last held value\n",
      "\n",
      "print (SLAVE0.get_voltage_all())"
     ],
     "language": "python",
     "metadata": {},
     "outputs": [
      {
       "output_type": "stream",
       "stream": "stdout",
       "text": [
        "[5.2, 5.0, 6.0, 0.0]\n"
       ]
      }
     ],
     "prompt_number": 28
    },
    {
     "cell_type": "code",
     "collapsed": false,
     "input": [
      "# SLAVE1 however is updated\n",
      "\n",
      "print (SLAVE1.get_voltage_all())"
     ],
     "language": "python",
     "metadata": {},
     "outputs": [
      {
       "output_type": "stream",
       "stream": "stdout",
       "text": [
        "[5.2, 1.0, 6.2, 0.0]\n"
       ]
      }
     ],
     "prompt_number": 29
    },
    {
     "cell_type": "code",
     "collapsed": false,
     "input": [
      "# Change in VCC is reflected to both SLAVE0 and SLAVE1\n",
      "\n",
      "VCC[0].set_voltage(5.5)\n",
      "\n",
      "print (SLAVE0[0].get_voltage())"
     ],
     "language": "python",
     "metadata": {},
     "outputs": [
      {
       "output_type": "stream",
       "stream": "stdout",
       "text": [
        "5.2\n"
       ]
      }
     ],
     "prompt_number": 30
    },
    {
     "cell_type": "code",
     "collapsed": false,
     "input": [
      "print (SLAVE1[0].get_voltage())"
     ],
     "language": "python",
     "metadata": {},
     "outputs": [
      {
       "output_type": "stream",
       "stream": "stdout",
       "text": [
        "5.5\n"
       ]
      }
     ],
     "prompt_number": 31
    },
    {
     "cell_type": "markdown",
     "metadata": {},
     "source": [
      "###Example to illustrate the usage of bittools"
     ]
    },
    {
     "cell_type": "markdown",
     "metadata": {},
     "source": [
      "`BinPyBits` is a class inheriting from the `bitstring.BitArray` class. It will be used for efficient manipulation / handling of Bit vectors."
     ]
    },
    {
     "cell_type": "code",
     "collapsed": false,
     "input": [
      "from BinPy import *\n",
      "\n",
      "# Initializing a BinPyBits object\n",
      "\n",
      "bit_vector = BinPyBits(5)"
     ],
     "language": "python",
     "metadata": {},
     "outputs": [],
     "prompt_number": 32
    },
    {
     "cell_type": "code",
     "collapsed": false,
     "input": [
      "# By default all BinPyBits objects are not signed\n",
      "\n",
      "bit_vector.signed"
     ],
     "language": "python",
     "metadata": {},
     "outputs": [
      {
       "metadata": {},
       "output_type": "pyout",
       "prompt_number": 33,
       "text": [
        "False"
       ]
      }
     ],
     "prompt_number": 33
    },
    {
     "cell_type": "code",
     "collapsed": false,
     "input": [
      "# Getting the decimal value\n",
      "\n",
      "bit_vector.uint"
     ],
     "language": "python",
     "metadata": {},
     "outputs": [
      {
       "metadata": {},
       "output_type": "pyout",
       "prompt_number": 34,
       "text": [
        "5"
       ]
      }
     ],
     "prompt_number": 34
    },
    {
     "cell_type": "code",
     "collapsed": false,
     "input": [
      "# Getting the binary string\n",
      "\n",
      "bit_vector.bin"
     ],
     "language": "python",
     "metadata": {},
     "outputs": [
      {
       "metadata": {},
       "output_type": "pyout",
       "prompt_number": 35,
       "text": [
        "'101'"
       ]
      }
     ],
     "prompt_number": 35
    },
    {
     "cell_type": "code",
     "collapsed": false,
     "input": [
      "# Do not use int with unsigned BinPyBits objects\n",
      "\n",
      "bit_vector.int"
     ],
     "language": "python",
     "metadata": {},
     "outputs": [
      {
       "metadata": {},
       "output_type": "pyout",
       "prompt_number": 36,
       "text": [
        "-3"
       ]
      }
     ],
     "prompt_number": 36
    },
    {
     "cell_type": "code",
     "collapsed": false,
     "input": [
      "# This returns -3 since '101' ==> -3 ( 2's Complement representation )\n",
      "\n",
      "# You could use :\n",
      "\n",
      "int_value = bit_vector.int if bit_vector.signed else bit_vector.uint\n",
      "\n",
      "print int_value"
     ],
     "language": "python",
     "metadata": {},
     "outputs": [
      {
       "output_type": "stream",
       "stream": "stdout",
       "text": [
        "5\n"
       ]
      }
     ],
     "prompt_number": 37
    },
    {
     "cell_type": "code",
     "collapsed": false,
     "input": [
      "# Creating a BinPyBits object using binary string\n",
      "\n",
      "bit_vector = BinPyBits('1111', signed=False)\n",
      "\n",
      "# Converting to decimal\n",
      "\n",
      "int_value = bit_vector.int if bit_vector.signed else bit_vector.uint\n",
      "\n",
      "print int_value"
     ],
     "language": "python",
     "metadata": {},
     "outputs": [
      {
       "output_type": "stream",
       "stream": "stdout",
       "text": [
        "15\n"
       ]
      }
     ],
     "prompt_number": 38
    },
    {
     "cell_type": "code",
     "collapsed": false,
     "input": [
      "# Creating a signed BinPyBits\n",
      "\n",
      "bit_vector = BinPyBits('1111', signed=True)\n",
      "\n",
      "# Converting to decimal\n",
      "\n",
      "int_value = bit_vector.int if bit_vector.signed else bit_vector.uint\n",
      "\n",
      "print int_value"
     ],
     "language": "python",
     "metadata": {},
     "outputs": [
      {
       "output_type": "stream",
       "stream": "stdout",
       "text": [
        "-1\n"
       ]
      }
     ],
     "prompt_number": 39
    },
    {
     "cell_type": "code",
     "collapsed": false,
     "input": [
      "# Converting to hex\n",
      "\n",
      "bit_vector.hex"
     ],
     "language": "python",
     "metadata": {},
     "outputs": [
      {
       "metadata": {},
       "output_type": "pyout",
       "prompt_number": 40,
       "text": [
        "'f'"
       ]
      }
     ],
     "prompt_number": 40
    },
    {
     "cell_type": "markdown",
     "metadata": {},
     "source": [
      "Refer [the documentation of bittstring](https://pypi.python.org/pypi/bitstring/3.1.3) to discover additional functionality."
     ]
    },
    {
     "cell_type": "code",
     "collapsed": false,
     "input": [
      "# The speciality of BinPyBits lies in the fact that it can be initialized from various types of inputs\n",
      "# Except for the initialization, the rest of the functionalities remain similar to that of the bitstring.BitArray\n",
      "\n",
      "# Initializing a signed value using - sign\n",
      "\n",
      "bit_vector = BinPyBits('-1111', signed=True)\n",
      "\n",
      "print bit_vector.int"
     ],
     "language": "python",
     "metadata": {},
     "outputs": [
      {
       "output_type": "stream",
       "stream": "stdout",
       "text": [
        "-15\n"
       ]
      }
     ],
     "prompt_number": 41
    },
    {
     "cell_type": "markdown",
     "metadata": {},
     "source": [
      "###Multiplication algorithms in BinPy"
     ]
    },
    {
     "cell_type": "markdown",
     "metadata": {},
     "source": [
      "####Roberson's Multiplication algorithm"
     ]
    },
    {
     "cell_type": "code",
     "collapsed": false,
     "input": [
      "product = robertsons_multiply('111111', '111111', 7)\n",
      "print product"
     ],
     "language": "python",
     "metadata": {},
     "outputs": [
      {
       "output_type": "stream",
       "stream": "stdout",
       "text": [
        "00111110000001\n"
       ]
      }
     ],
     "prompt_number": 42
    },
    {
     "cell_type": "code",
     "collapsed": false,
     "input": [
      "to_unsigned_int(product)"
     ],
     "language": "python",
     "metadata": {},
     "outputs": [
      {
       "metadata": {},
       "output_type": "pyout",
       "prompt_number": 43,
       "text": [
        "3969"
       ]
      }
     ],
     "prompt_number": 43
    },
    {
     "cell_type": "code",
     "collapsed": false,
     "input": [
      "product = robertsons_multiply('111111', '000001', 7, signed=True)\n",
      "print product"
     ],
     "language": "python",
     "metadata": {},
     "outputs": [
      {
       "output_type": "stream",
       "stream": "stdout",
       "text": [
        "11111111111111\n"
       ]
      }
     ],
     "prompt_number": 44
    },
    {
     "cell_type": "code",
     "collapsed": false,
     "input": [
      "to_signed_int(product)"
     ],
     "language": "python",
     "metadata": {},
     "outputs": [
      {
       "metadata": {},
       "output_type": "pyout",
       "prompt_number": 45,
       "text": [
        "-1"
       ]
      }
     ],
     "prompt_number": 45
    },
    {
     "cell_type": "markdown",
     "metadata": {},
     "source": [
      "####Booth's Multiplication alogrithm"
     ]
    },
    {
     "cell_type": "code",
     "collapsed": false,
     "input": [
      "product = booths_multiply('110011', '111001')\n",
      "print product"
     ],
     "language": "python",
     "metadata": {},
     "outputs": [
      {
       "output_type": "stream",
       "stream": "stdout",
       "text": [
        "000001011011\n"
       ]
      }
     ],
     "prompt_number": 46
    },
    {
     "cell_type": "code",
     "collapsed": false,
     "input": [
      "to_unsigned_int(product)"
     ],
     "language": "python",
     "metadata": {},
     "outputs": [
      {
       "metadata": {},
       "output_type": "pyout",
       "prompt_number": 47,
       "text": [
        "91"
       ]
      }
     ],
     "prompt_number": 47
    },
    {
     "cell_type": "code",
     "collapsed": false,
     "input": [
      "product = booths_multiply(bin(-5), bin(-5), signed=True)\n",
      "print product"
     ],
     "language": "python",
     "metadata": {},
     "outputs": [
      {
       "output_type": "stream",
       "stream": "stdout",
       "text": [
        "00011001\n"
       ]
      }
     ],
     "prompt_number": 48
    },
    {
     "cell_type": "code",
     "collapsed": false,
     "input": [
      "to_signed_int(product)"
     ],
     "language": "python",
     "metadata": {},
     "outputs": [
      {
       "metadata": {},
       "output_type": "pyout",
       "prompt_number": 49,
       "text": [
        "25"
       ]
      }
     ],
     "prompt_number": 49
    },
    {
     "cell_type": "markdown",
     "metadata": {},
     "source": [
      "####Karatsuba's Multiplication algorithm"
     ]
    },
    {
     "cell_type": "code",
     "collapsed": false,
     "input": [
      "product = karatsuba_multiply('1010', '1001')\n",
      "print product"
     ],
     "language": "python",
     "metadata": {},
     "outputs": [
      {
       "output_type": "stream",
       "stream": "stdout",
       "text": [
        "01011010\n"
       ]
      }
     ],
     "prompt_number": 50
    },
    {
     "cell_type": "code",
     "collapsed": false,
     "input": [
      "print  to_unsigned_int(product)"
     ],
     "language": "python",
     "metadata": {},
     "outputs": [
      {
       "output_type": "stream",
       "stream": "stdout",
       "text": [
        "90\n"
       ]
      }
     ],
     "prompt_number": 51
    },
    {
     "cell_type": "code",
     "collapsed": false,
     "input": [
      "product = karatsuba_multiply('1010', '1001', signed=True) # --6  *  -7  = 42\n",
      "print product"
     ],
     "language": "python",
     "metadata": {},
     "outputs": [
      {
       "output_type": "stream",
       "stream": "stdout",
       "text": [
        "00101010\n"
       ]
      }
     ],
     "prompt_number": 52
    },
    {
     "cell_type": "code",
     "collapsed": false,
     "input": [
      "print to_unsigned_int(product)"
     ],
     "language": "python",
     "metadata": {},
     "outputs": [
      {
       "output_type": "stream",
       "stream": "stdout",
       "text": [
        "42\n"
       ]
      }
     ],
     "prompt_number": 53
    },
    {
     "cell_type": "markdown",
     "metadata": {},
     "source": [
      "### IC's - Using Integrated Circuits in BinPy"
     ]
    },
    {
     "cell_type": "code",
     "collapsed": false,
     "input": [
      "# Usage of IC 7400:\n",
      "\n",
      "ic1 = IC_7400()\n",
      "\n",
      "print(ic.__doc__)"
     ],
     "language": "python",
     "metadata": {},
     "outputs": [
      {
       "output_type": "stream",
       "stream": "stdout",
       "text": [
        "None\n"
       ]
      }
     ],
     "prompt_number": 54
    },
    {
     "cell_type": "code",
     "collapsed": false,
     "input": [
      "ic1.draw_IC()"
     ],
     "language": "python",
     "metadata": {},
     "outputs": [
      {
       "output_type": "stream",
       "stream": "stdout",
       "text": [
        "\n",
        "\n",
        "              \u250c\u2500\u2500\u2500\u2500\u2500\u2500\u2500\u2500\u2500\u25e1\u2500\u2500\u2500\u2500\u2500\u2500\u2500\u2500\u2500\u2510\n",
        "              \u2502                   \u2502\n",
        "     [0]    \u2500\u2500\u2524  1            14  \u251c\u2500\u2500    [0]    \n",
        "              \u2502                   \u2502\n",
        "              \u2502                   \u2502\n",
        "     [0]    \u2500\u2500\u2524  2      7     13  \u251c\u2500\u2500    [0]    \n",
        "              \u2502                   \u2502\n",
        "              \u2502                   \u2502\n",
        "     [Z]    \u2500\u2500\u2524  3      4     12  \u251c\u2500\u2500    [0]    \n",
        "              \u2502                   \u2502\n",
        "              \u2502                   \u2502\n",
        "     [0]    \u2500\u2500\u2524  4      0     11  \u251c\u2500\u2500    [Z]    \n",
        "              \u2502                   \u2502\n",
        "              \u2502                   \u2502\n",
        "     [0]    \u2500\u2500\u2524  5      0     10  \u251c\u2500\u2500    [0]    \n",
        "              \u2502                   \u2502\n",
        "              \u2502                   \u2502\n",
        "     [Z]    \u2500\u2500\u2524  6             9  \u251c\u2500\u2500    [0]    \n",
        "              \u2502                   \u2502\n",
        "              \u2502                   \u2502\n",
        "     [0]    \u2500\u2500\u2524  7             8  \u251c\u2500\u2500    [Z]    \n",
        "              \u2502                   \u2502\n",
        "              \u2514\u2500\u2500\u2500\u2500\u2500\u2500\u2500\u2500\u2500\u2500\u2500\u2500\u2500\u2500\u2500\u2500\u2500\u2500\u2500\u2518  \n"
       ]
      }
     ],
     "prompt_number": 55
    },
    {
     "cell_type": "code",
     "collapsed": true,
     "input": [
      "pin_dict = {1: 1, 2: 0, 4: 0, 5: 0, 7: 0, 9: 1, 10: 1, 12: 0, 13: 0, 14: 1}\n",
      "ic1.set_IC(pin_dict)\n",
      "ic1.run()"
     ],
     "language": "python",
     "metadata": {},
     "outputs": [
      {
       "metadata": {},
       "output_type": "pyout",
       "prompt_number": 56,
       "text": [
        "{3: 1, 6: 1, 8: 0, 11: 1}"
       ]
      }
     ],
     "prompt_number": 56
    },
    {
     "cell_type": "code",
     "collapsed": false,
     "input": [
      "ic1.draw_IC()"
     ],
     "language": "python",
     "metadata": {},
     "outputs": [
      {
       "output_type": "stream",
       "stream": "stdout",
       "text": [
        "\n",
        "\n",
        "              \u250c\u2500\u2500\u2500\u2500\u2500\u2500\u2500\u2500\u2500\u25e1\u2500\u2500\u2500\u2500\u2500\u2500\u2500\u2500\u2500\u2510\n",
        "              \u2502                   \u2502\n",
        "     [1]    \u2500\u2500\u2524  1            14  \u251c\u2500\u2500    [1]    \n",
        "              \u2502                   \u2502\n",
        "              \u2502                   \u2502\n",
        "     [0]    \u2500\u2500\u2524  2      7     13  \u251c\u2500\u2500    [0]    \n",
        "              \u2502                   \u2502\n",
        "              \u2502                   \u2502\n",
        "     [1]    \u2500\u2500\u2524  3      4     12  \u251c\u2500\u2500    [0]    \n",
        "              \u2502                   \u2502\n",
        "              \u2502                   \u2502\n",
        "     [0]    \u2500\u2500\u2524  4      0     11  \u251c\u2500\u2500    [1]    \n",
        "              \u2502                   \u2502\n",
        "              \u2502                   \u2502\n",
        "     [0]    \u2500\u2500\u2524  5      0     10  \u251c\u2500\u2500    [1]    \n",
        "              \u2502                   \u2502\n",
        "              \u2502                   \u2502\n",
        "     [1]    \u2500\u2500\u2524  6             9  \u251c\u2500\u2500    [1]    \n",
        "              \u2502                   \u2502\n",
        "              \u2502                   \u2502\n",
        "     [0]    \u2500\u2500\u2524  7             8  \u251c\u2500\u2500    [0]    \n",
        "              \u2502                   \u2502\n",
        "              \u2514\u2500\u2500\u2500\u2500\u2500\u2500\u2500\u2500\u2500\u2500\u2500\u2500\u2500\u2500\u2500\u2500\u2500\u2500\u2500\u2518  \n"
       ]
      }
     ],
     "prompt_number": 57
    },
    {
     "cell_type": "code",
     "collapsed": false,
     "input": [
      "alu = IC_74181()"
     ],
     "language": "python",
     "metadata": {},
     "outputs": [],
     "prompt_number": 58
    },
    {
     "cell_type": "code",
     "collapsed": false,
     "input": [
      "print alu.__doc__"
     ],
     "language": "python",
     "metadata": {},
     "outputs": [
      {
       "output_type": "stream",
       "stream": "stdout",
       "text": [
        "This is a 4-bit Arithmetic Logic Unit which performs 16 diff functions.\n",
        "    It has two modes active high input mode and active low input mode(Active high mode is used here)\n",
        "\n",
        "    Pin Number  Description\n",
        "        1       Input - B0\n",
        "        2       Input - A0\n",
        "        3       Input - Select Line - S3\n",
        "        4       Input - Select Line - S2\n",
        "        5       Input - Select Line - S1\n",
        "        6       Input - Select Line - S0\n",
        "        7       Input - Carry\n",
        "        8       Input - Mode Input(M)\n",
        "        9       Output- F0\n",
        "        10      Output- F1\n",
        "        11      Output- F2\n",
        "        12      Ground\n",
        "        13      Output- F3\n",
        "        14      Output- A=B\n",
        "        15      Output- P\n",
        "        16      Output- NOT(C(n+4))\n",
        "        17      Output- G\n",
        "        18      Input - B3\n",
        "        19      Input - A3\n",
        "        20      Input - B2\n",
        "        21      Input - A2\n",
        "        22      Input - B1\n",
        "        23      Input - A1\n",
        "        24      VCC\n",
        "\n",
        "        Mode and Select Lines are used to select the function to be performed by the ALU on\n",
        "        the two 4-bit input data A3 A2 A1 A0 & B3 B2 B1 B0(Inputs A0-A3 and\n",
        "        B0-B3 have to be complemented and given).\n",
        "    \n"
       ]
      }
     ],
     "prompt_number": 59
    },
    {
     "cell_type": "code",
     "collapsed": false,
     "input": [
      "alu.draw_IC()"
     ],
     "language": "python",
     "metadata": {},
     "outputs": [
      {
       "output_type": "stream",
       "stream": "stdout",
       "text": [
        "\n",
        "\n",
        "              \u250c\u2500\u2500\u2500\u2500\u2500\u2500\u2500\u2500\u2500\u25e1\u2500\u2500\u2500\u2500\u2500\u2500\u2500\u2500\u2500\u2510\n",
        "              \u2502                   \u2502\n",
        "     [0]    \u2500\u2500\u2524  1            24  \u251c\u2500\u2500    [0]    \n",
        "              \u2502                   \u2502\n",
        "              \u2502                   \u2502\n",
        "     [0]    \u2500\u2500\u2524  2      7     23  \u251c\u2500\u2500    [0]    \n",
        "              \u2502                   \u2502\n",
        "              \u2502                   \u2502\n",
        "     [0]    \u2500\u2500\u2524  3      4     22  \u251c\u2500\u2500    [0]    \n",
        "              \u2502                   \u2502\n",
        "              \u2502                   \u2502\n",
        "     [0]    \u2500\u2500\u2524  4      1     21  \u251c\u2500\u2500    [0]    \n",
        "              \u2502                   \u2502\n",
        "              \u2502                   \u2502\n",
        "     [0]    \u2500\u2500\u2524  5      8     20  \u251c\u2500\u2500    [0]    \n",
        "              \u2502                   \u2502\n",
        "              \u2502                   \u2502\n",
        "     [0]    \u2500\u2500\u2524  6      1     19  \u251c\u2500\u2500    [0]    \n",
        "              \u2502                   \u2502\n",
        "              \u2502                   \u2502\n",
        "     [0]    \u2500\u2500\u2524  7            18  \u251c\u2500\u2500    [0]    \n",
        "              \u2502                   \u2502\n",
        "              \u2502                   \u2502\n",
        "     [0]    \u2500\u2500\u2524  8            17  \u251c\u2500\u2500    [Z]    \n",
        "              \u2502                   \u2502\n",
        "              \u2502                   \u2502\n",
        "     [Z]    \u2500\u2500\u2524  9            16  \u251c\u2500\u2500    [Z]    \n",
        "              \u2502                   \u2502\n",
        "              \u2502                   \u2502\n",
        "     [Z]    \u2500\u2500\u2524 10            15  \u251c\u2500\u2500    [Z]    \n",
        "              \u2502                   \u2502\n",
        "              \u2502                   \u2502\n",
        "     [Z]    \u2500\u2500\u2524 11            14  \u251c\u2500\u2500    [Z]    \n",
        "              \u2502                   \u2502\n",
        "              \u2502                   \u2502\n",
        "     [0]    \u2500\u2500\u2524 12            13  \u251c\u2500\u2500    [Z]    \n",
        "              \u2502                   \u2502\n",
        "              \u2514\u2500\u2500\u2500\u2500\u2500\u2500\u2500\u2500\u2500\u2500\u2500\u2500\u2500\u2500\u2500\u2500\u2500\u2500\u2500\u2518  \n"
       ]
      }
     ],
     "prompt_number": 60
    },
    {
     "cell_type": "code",
     "collapsed": false,
     "input": [
      "# Complementing A Bus and B Bus\n",
      "#_ = [ ( NOT(A[i]).set_output(A_Compl[i]), NOT(B[i]).set_output(B_Compl[i]) ) for i in range(4) ]"
     ],
     "language": "python",
     "metadata": {},
     "outputs": [],
     "prompt_number": 61
    },
    {
     "cell_type": "code",
     "collapsed": false,
     "input": [
      "# Input Bus A and B\n",
      "A, B = Bus(4), Bus(4)\n",
      "\n",
      "# Power supply of VCC 5v / GND 0v\n",
      "PWR = Bus(Connector(voltage=0), Connector(voltage=5.0))\n",
      "\n",
      "MOD = 1\n",
      "SEL = list(reversed([1, 1, 1, 0]))\n",
      "CAR = 1"
     ],
     "language": "python",
     "metadata": {},
     "outputs": [],
     "prompt_number": 62
    },
    {
     "cell_type": "code",
     "collapsed": false,
     "input": [
      "A.set_logic_all('1000') # 8\n",
      "B.set_logic_all('0001') # 1\n",
      "\n",
      "A_ = A.get_logic_all() # I might as well store A_ directly as a list of logic bits ...\n",
      "B_ = B.get_logic_all()\n",
      "\n",
      "alu.set_IC({   1:B_[0],\n",
      "               2:A_[0],\n",
      "               3:SEL[3],\n",
      "               4:SEL[2],\n",
      "               5:SEL[1],\n",
      "               6:SEL[0],\n",
      "               7:CAR,\n",
      "               8:MOD,\n",
      "               12:int(PWR[0]),\n",
      "               18:B_[3],\n",
      "               19:A_[3],\n",
      "               20:B_[2],\n",
      "               21:A_[2],\n",
      "               22:B_[1],\n",
      "               23:A_[1],\n",
      "               24:int(PWR[1])\n",
      "            })\n",
      "\n",
      "alu.run()"
     ],
     "language": "python",
     "metadata": {},
     "outputs": [
      {
       "metadata": {},
       "output_type": "pyout",
       "prompt_number": 63,
       "text": [
        "{9: 1, 10: 0, 11: 0, 13: 1, 14: 0, 15: 1, 16: 1, 17: 0}"
       ]
      }
     ],
     "prompt_number": 63
    },
    {
     "cell_type": "code",
     "collapsed": false,
     "input": [
      "alu.draw_IC()"
     ],
     "language": "python",
     "metadata": {},
     "outputs": [
      {
       "output_type": "stream",
       "stream": "stdout",
       "text": [
        "\n",
        "\n",
        "              \u250c\u2500\u2500\u2500\u2500\u2500\u2500\u2500\u2500\u2500\u25e1\u2500\u2500\u2500\u2500\u2500\u2500\u2500\u2500\u2500\u2510\n",
        "              \u2502                   \u2502\n",
        "     [0]    \u2500\u2500\u2524  1            24  \u251c\u2500\u2500    [1]    \n",
        "              \u2502                   \u2502\n",
        "              \u2502                   \u2502\n",
        "     [1]    \u2500\u2500\u2524  2      7     23  \u251c\u2500\u2500    [0]    \n",
        "              \u2502                   \u2502\n",
        "              \u2502                   \u2502\n",
        "     [1]    \u2500\u2500\u2524  3      4     22  \u251c\u2500\u2500    [0]    \n",
        "              \u2502                   \u2502\n",
        "              \u2502                   \u2502\n",
        "     [1]    \u2500\u2500\u2524  4      1     21  \u251c\u2500\u2500    [0]    \n",
        "              \u2502                   \u2502\n",
        "              \u2502                   \u2502\n",
        "     [1]    \u2500\u2500\u2524  5      8     20  \u251c\u2500\u2500    [0]    \n",
        "              \u2502                   \u2502\n",
        "              \u2502                   \u2502\n",
        "     [0]    \u2500\u2500\u2524  6      1     19  \u251c\u2500\u2500    [0]    \n",
        "              \u2502                   \u2502\n",
        "              \u2502                   \u2502\n",
        "     [1]    \u2500\u2500\u2524  7            18  \u251c\u2500\u2500    [1]    \n",
        "              \u2502                   \u2502\n",
        "              \u2502                   \u2502\n",
        "     [1]    \u2500\u2500\u2524  8            17  \u251c\u2500\u2500    [0]    \n",
        "              \u2502                   \u2502\n",
        "              \u2502                   \u2502\n",
        "     [1]    \u2500\u2500\u2524  9            16  \u251c\u2500\u2500    [1]    \n",
        "              \u2502                   \u2502\n",
        "              \u2502                   \u2502\n",
        "     [0]    \u2500\u2500\u2524 10            15  \u251c\u2500\u2500    [1]    \n",
        "              \u2502                   \u2502\n",
        "              \u2502                   \u2502\n",
        "     [0]    \u2500\u2500\u2524 11            14  \u251c\u2500\u2500    [0]    \n",
        "              \u2502                   \u2502\n",
        "              \u2502                   \u2502\n",
        "     [0]    \u2500\u2500\u2524 12            13  \u251c\u2500\u2500    [1]    \n",
        "              \u2502                   \u2502\n",
        "              \u2514\u2500\u2500\u2500\u2500\u2500\u2500\u2500\u2500\u2500\u2500\u2500\u2500\u2500\u2500\u2500\u2500\u2500\u2500\u2500\u2518  \n"
       ]
      }
     ],
     "prompt_number": 64
    },
    {
     "cell_type": "markdown",
     "metadata": {},
     "source": [
      "### Verify with the function table of IC74181 ( Taken from google images )\n",
      "\n",
      "<img src=\"ALU74181.gif\" />"
     ]
    },
    {
     "cell_type": "markdown",
     "metadata": {},
     "source": [
      "### Combinational circuits"
     ]
    },
    {
     "cell_type": "markdown",
     "metadata": {},
     "source": [
      "####DEMUX"
     ]
    },
    {
     "cell_type": "code",
     "collapsed": false,
     "input": [
      "# Initializing the DEMUX class\n",
      "\n",
      "# Must be a single input\n",
      "\n",
      "demux = DEMUX(1)\n",
      "\n",
      "# Put select lines\n",
      "\n",
      "# Select Lines must be power of 2\n",
      "\n",
      "demux.select_lines(0, 1) # a, b\n",
      "\n",
      "# Output of demux\n",
      "\n",
      "print (demux.output())  # D0, D1, D2, D3"
     ],
     "language": "python",
     "metadata": {},
     "outputs": [
      {
       "output_type": "stream",
       "stream": "stdout",
       "text": [
        "[0, 1, 0, 0]\n"
       ]
      }
     ],
     "prompt_number": 65
    },
    {
     "cell_type": "markdown",
     "metadata": {},
     "source": [
      "###Demux Block ( from google images )\n",
      "<img src=\"DEMUX.gif\" />"
     ]
    },
    {
     "cell_type": "markdown",
     "metadata": {},
     "source": [
      "###Full Adder - Using Connectors in Combinational blocks"
     ]
    },
    {
     "cell_type": "code",
     "collapsed": false,
     "input": [
      "print(FullAdder.__doc__)"
     ],
     "language": "python",
     "metadata": {},
     "outputs": [
      {
       "output_type": "stream",
       "stream": "stdout",
       "text": [
        "This Class implements Full Adder, Arithmetic sum of three bits and\n",
        "    return its Sum and Carry\n",
        "    Output: [CARRY, SUM]\n",
        "    Example:\n",
        "        >>> from BinPy import *\n",
        "        >>> fa = FullAdder(0, 1, 1)\n",
        "        >>> fa.output()\n",
        "        [1, 0]\n",
        "    \n"
       ]
      }
     ],
     "prompt_number": 66
    },
    {
     "cell_type": "code",
     "collapsed": false,
     "input": [
      "a, b, ci, s, co = Connector(1), Connector(0), Connector(1), Connector(), Connector()\n",
      "\n",
      "# Initializing full adder using connectors\n",
      "fa = FullAdder(a, b, ci)\n",
      "\n",
      "# Connect outputs\n",
      "fa.set_output(0, co)\n",
      "fa.set_output(1, s)"
     ],
     "language": "python",
     "metadata": {},
     "outputs": [],
     "prompt_number": 67
    },
    {
     "cell_type": "code",
     "collapsed": false,
     "input": [
      "print (co.get_logic(), s.get_logic())"
     ],
     "language": "python",
     "metadata": {},
     "outputs": [
      {
       "output_type": "stream",
       "stream": "stdout",
       "text": [
        "(1, 0)\n"
       ]
      }
     ],
     "prompt_number": 68
    },
    {
     "cell_type": "markdown",
     "metadata": {},
     "source": [
      "###MUX"
     ]
    },
    {
     "cell_type": "code",
     "collapsed": false,
     "input": [
      "# Initializing the MUX class\n",
      "\n",
      "mux = MUX(0, 1, 1, 0)\n",
      "\n",
      "# Put select lines\n",
      "\n",
      "mux.select_lines(0, 0)\n",
      "\n",
      "# Output of mux\n",
      "\n",
      "print (mux.output())"
     ],
     "language": "python",
     "metadata": {},
     "outputs": [
      {
       "output_type": "stream",
       "stream": "stdout",
       "text": [
        "0\n"
       ]
      }
     ],
     "prompt_number": 69
    },
    {
     "cell_type": "markdown",
     "metadata": {},
     "source": [
      "###Sequential Circuits - Introducing the clock object."
     ]
    },
    {
     "cell_type": "markdown",
     "metadata": {},
     "source": [
      "####JK Flip Flop and the The ASCII Art based Oscilloscope of BinPy"
     ]
    },
    {
     "cell_type": "code",
     "collapsed": false,
     "input": [
      "j, k, p, q = Connector(1), Connector(0), Connector(0), Connector(1)\n",
      "\n",
      "# A clock of 4 hertz frequency initialized to 1\n",
      "clock = Clock(0, 4)\n",
      "\n",
      "jkff = JKFlipFlop(j, k, Connector(1), clock.A, clear=Connector(1))\n",
      "\n",
      "# To connect outputs use s.set_outputs(op1,op2)\n",
      "jkff.set_outputs(A=p, B=q)\n",
      "\n",
      "# Initiating the oscilloscope\n",
      "o = Oscilloscope((clock.A, 'CLK'), (j, 'J'), (\n",
      "    k, 'k'), (p, 'OUT'), (q, 'OUT!'), (Connector(1), 'ENABLE'))\n",
      "\n",
      "o.start()\n",
      "o.set_scale(0.02)  # Set scale by trial and error.\n",
      "o.set_width(100)\n",
      "o.unhold()\n",
      "\n",
      "\n",
      "# For each j,k in 0,0 / 0,1 / 1,0 / 1,1 Trigger ( Send a Falling edge clock pulse to the jkff module )\n",
      "\n",
      "from time import sleep\n",
      "\n",
      "for j.state, k.state in zip([0, 0, 1, 0, 1], [0, 0, 0, 1, 1]):\n",
      "    \n",
      "    print \"j,k = \", ( j.state, k.state )\n",
      "    # Sending One Clock Pulse \n",
      "\n",
      "    # The same thing can also be done by --> jkff.setInputs(j = 1, k = 0)\n",
      "    while True:\n",
      "        if clock.A.state == 0:\n",
      "            # Falling edge will trigger the FF\n",
      "            jkff.trigger()\n",
      "            break\n",
      "    print (jkff.state())\n",
      "\n",
      "    # Sending a positive edge to jkff\n",
      "    while True:\n",
      "        if clock.A.state == 1:\n",
      "            # Falling edge will trigger the FF\n",
      "            jkff.trigger()\n",
      "            break\n",
      "            \n",
      "\n",
      "o.display()"
     ],
     "language": "python",
     "metadata": {},
     "outputs": [
      {
       "output_type": "stream",
       "stream": "stdout",
       "text": [
        "\u001b[0m\n",
        "\u001b[0m\n",
        "j,k =  (0, 0)\n",
        "[0, 1]\n",
        "j,k = "
       ]
      },
      {
       "output_type": "stream",
       "stream": "stdout",
       "text": [
        " (0, 0)\n",
        "[0, 1]"
       ]
      },
      {
       "output_type": "stream",
       "stream": "stdout",
       "text": [
        "\n",
        "j,k = "
       ]
      },
      {
       "output_type": "stream",
       "stream": "stdout",
       "text": [
        " (1, 0)\n",
        "[1, 0]"
       ]
      },
      {
       "output_type": "stream",
       "stream": "stdout",
       "text": [
        "\n",
        "j,k = "
       ]
      },
      {
       "output_type": "stream",
       "stream": "stdout",
       "text": [
        " (0, 1)\n",
        "[0, 1]"
       ]
      },
      {
       "output_type": "stream",
       "stream": "stdout",
       "text": [
        "\n",
        "j,k = "
       ]
      },
      {
       "output_type": "stream",
       "stream": "stdout",
       "text": [
        " (1, 1)\n",
        "[1, 0]"
       ]
      },
      {
       "output_type": "stream",
       "stream": "stdout",
       "text": [
        "\n",
        "\u001b[0m===================================================================================================================\n",
        "BinPy - Oscilloscope\n",
        "===================================================================================================================\n",
        "                                                                               SCALE - X-AXIS : 1 UNIT WIDTH = 0.02\n",
        "===================================================================================================================\n",
        "          \u2502\n",
        "          \u2502\n",
        "          \u2502          \u250c\u2500\u2500\u2500\u2500\u2500\u2500\u2500\u2500\u2500\u2500\u2510          \u250c\u2500\u2500\u2500\u2500\u2500\u2500\u2500\u2500\u2500\u2500\u2500\u2510          \u250c\u2500\u2500\u2500\u2500\u2500\u2500\u2500\u2500\u2500\u2500\u2510           \u250c\u2500\u2500\u2500\u2500\u2500\u2500\u2500\u2500\u2500\u2500\u2510           \n",
        "     CLK  \u2502          \u2502          \u2502          \u2502           \u2502          \u2502          \u2502           \u2502          \u2502           \n",
        "          \u2500 \u2500\u2500\u2500\u2500\u2500\u2500\u2500\u2500\u2500\u2518          \u2514\u2500\u2500\u2500\u2500\u2500\u2500\u2500\u2500\u2500\u2500\u2518           \u2514\u2500\u2500\u2500\u2500\u2500\u2500\u2500\u2500\u2500\u2500\u2518          \u2514\u2500\u2500\u2500\u2500\u2500\u2500\u2500\u2500\u2500\u2500\u2500\u2518          \u2514\u2500\u2500\u2500\u2500\u2500\u2500\u2500\u2500\u2500\u2500\u2500\n",
        "          \u2502\n",
        "          \u2502\n",
        "          \u2502\n",
        "          \u2502\n",
        "          \u2502                                \u250c\u2500\u2500\u2500\u2500\u2500\u2500\u2500\u2500\u2500\u2500\u2500\u2500\u2500\u2500\u2500\u2500\u2500\u2500\u2500\u2500\u2500\u2500\u2510                      \u250c\u2500\u2500\u2500\u2500\u2500\u2500\u2500\u2500\u2500\u2500\u2500\u2500\u2500\u2500\u2500\u2500\u2500\u2500\u2500\u2500\u2500\u2510\n",
        "       J  \u2502                                \u2502                      \u2502                      \u2502                     \u2502\n",
        "          \u2500 \u2500\u2500\u2500\u2500\u2500\u2500\u2500\u2500\u2500\u2500\u2500\u2500\u2500\u2500\u2500\u2500\u2500\u2500\u2500\u2500\u2500\u2500\u2500\u2500\u2500\u2500\u2500\u2500\u2500\u2500\u2500\u2518                      \u2514\u2500\u2500\u2500\u2500\u2500\u2500\u2500\u2500\u2500\u2500\u2500\u2500\u2500\u2500\u2500\u2500\u2500\u2500\u2500\u2500\u2500\u2500\u2518                     \u2514\n",
        "          \u2502\n",
        "          \u2502\n",
        "          \u2502\n",
        "          \u2502\n",
        "          \u2502                                                       \u250c\u2500\u2500\u2500\u2500\u2500\u2500\u2500\u2500\u2500\u2500\u2500\u2500\u2500\u2500\u2500\u2500\u2500\u2500\u2500\u2500\u2500\u2500\u2500\u2500\u2500\u2500\u2500\u2500\u2500\u2500\u2500\u2500\u2500\u2500\u2500\u2500\u2500\u2500\u2500\u2500\u2500\u2500\u2500\u2500\u2510\n",
        "       k  \u2502                                                       \u2502                                            \u2502\n",
        "          \u2500 \u2500\u2500\u2500\u2500\u2500\u2500\u2500\u2500\u2500\u2500\u2500\u2500\u2500\u2500\u2500\u2500\u2500\u2500\u2500\u2500\u2500\u2500\u2500\u2500\u2500\u2500\u2500\u2500\u2500\u2500\u2500\u2500\u2500\u2500\u2500\u2500\u2500\u2500\u2500\u2500\u2500\u2500\u2500\u2500\u2500\u2500\u2500\u2500\u2500\u2500\u2500\u2500\u2500\u2500\u2518                                            \u2514\n",
        "          \u2502\n",
        "          \u2502\n",
        "          \u2502\n",
        "          \u2502\n",
        "          \u2502                                            \u250c\u2500\u2500\u2500\u2500\u2500\u2500\u2500\u2500\u2500\u2500\u2500\u2500\u2500\u2500\u2500\u2500\u2500\u2500\u2500\u2500\u2500\u2500\u2510                     \u250c\u2500\u2500\u2500\u2500\u2500\u2500\u2500\u2500\u2500\u2500\u2510\n",
        "     OUT  \u2502                                            \u2502                      \u2502                     \u2502          \u2502\n",
        "          \u2500 \u2500\u2500\u2500\u2500\u2500\u2500\u2500\u2500\u2500\u2500\u2500\u2500\u2500\u2500\u2500\u2500\u2500\u2500\u2500\u2500\u2500\u2500\u2500\u2500\u2500\u2500\u2500\u2500\u2500\u2500\u2500\u2500\u2500\u2500\u2500\u2500\u2500\u2500\u2500\u2500\u2500\u2500\u2500\u2518                      \u2514\u2500\u2500\u2500\u2500\u2500\u2500\u2500\u2500\u2500\u2500\u2500\u2500\u2500\u2500\u2500\u2500\u2500\u2500\u2500\u2500\u2500\u2518          \u2514\n",
        "          \u2502\n",
        "          \u2502\n",
        "          \u2502\n",
        "          \u2502\n",
        "          \u2502 \u250c\u2500\u2500\u2500\u2500\u2500\u2500\u2500\u2500\u2500\u2500\u2500\u2500\u2500\u2500\u2500\u2500\u2500\u2500\u2500\u2500\u2500\u2500\u2500\u2500\u2500\u2500\u2500\u2500\u2500\u2500\u2500\u2500\u2500\u2500\u2500\u2500\u2500\u2500\u2500\u2500\u2500\u2500\u2510                      \u250c\u2500\u2500\u2500\u2500\u2500\u2500\u2500\u2500\u2500\u2500\u2500\u2500\u2500\u2500\u2500\u2500\u2500\u2500\u2500\u2500\u2500\u2510           \n",
        "    OUT!  \u2502 \u2502                                          \u2502                      \u2502                     \u2502           \n",
        "          \u2500 \u2518                                          \u2514\u2500\u2500\u2500\u2500\u2500\u2500\u2500\u2500\u2500\u2500\u2500\u2500\u2500\u2500\u2500\u2500\u2500\u2500\u2500\u2500\u2500\u2500\u2518                     \u2514\u2500\u2500\u2500\u2500\u2500\u2500\u2500\u2500\u2500\u2500\u2500\n",
        "          \u2502\n",
        "          \u2502\n",
        "          \u2502\n",
        "          \u2502\n",
        "          \u2502 \u250c\u2500\u2500\u2500\u2500\u2500\u2500\u2500\u2500\u2500\u2500\u2500\u2500\u2500\u2500\u2500\u2500\u2500\u2500\u2500\u2500\u2500\u2500\u2500\u2500\u2500\u2500\u2500\u2500\u2500\u2500\u2500\u2500\u2500\u2500\u2500\u2500\u2500\u2500\u2500\u2500\u2500\u2500\u2500\u2500\u2500\u2500\u2500\u2500\u2500\u2500\u2500\u2500\u2500\u2500\u2500\u2500\u2500\u2500\u2500\u2500\u2500\u2500\u2500\u2500\u2500\u2500\u2500\u2500\u2500\u2500\u2500\u2500\u2500\u2500\u2500\u2500\u2500\u2500\u2500\u2500\u2500\u2500\u2500\u2500\u2500\u2500\u2500\u2500\u2500\u2500\u2500\u2500\u2500\u2500\u2500\u2500\u2500\u2500\u2510\n",
        "   ENABL  \u2502 \u2502                                                                                                  \u2502\n",
        "          \u2500 \u2518                                                                                                  \u2514\n",
        "          \u2502\n",
        "          \u2502\n",
        "\u2502\u2502\u2502\u2502\u2502\u2502\u2502\u2502\u2502\u2502\u2502\u2502\u2502\u2502\u2502\u2502\u2502\u2502\u2502\u2502\u2502\u2502\u2502\u2502\u2502\u2502\u2502\u2502\u2502\u2502\u2502\u2502\u2502\u2502\u2502\u2502\u2502\u2502\u2502\u2502\u2502\u2502\u2502\u2502\u2502\u2502\u2502\u2502\u2502\u2502\u2502\u2502\u2502\u2502\u2502\u2502\u2502\u2502\u2502\u2502\u2502\u2502\u2502\u2502\u2502\u2502\u2502\u2502\u2502\u2502\u2502\u2502\u2502\u2502\u2502\u2502\u2502\u2502\u2502\u2502\u2502\u2502\u2502\u2502\u2502\u2502\u2502\u2502\u2502\u2502\u2502\u2502\u2502\u2502\u2502\u2502\u2502\u2502\u2502\u2502\u2502\u2502\u2502\u2502\u2502\u2502\u2502\u2502\u2502\u2502\u2502\u2502\u2502\u2502\u2502\n",
        "\u2500\u2500\u2500\u2500\u2500\u2500\u2500\u2500\u2500\u2500\u2500\u2500\u2500\u2500\u2500\u2500\u2500\u2500\u2500\u2500\u2500\u2500\u2500\u2500\u2500\u2500\u2500\u2500\u2500\u2500\u2500\u2500\u2500\u2500\u2500\u2500\u2500\u2500\u2500\u2500\u2500\u2500\u2500\u2500\u2500\u2500\u2500\u2500\u2500\u2500\u2500\u2500\u2500\u2500\u2500\u2500\u2500\u2500\u2500\u2500\u2500\u2500\u2500\u2500\u2500\u2500\u2500\u2500\u2500\u2500\u2500\u2500\u2500\u2500\u2500\u2500\u2500\u2500\u2500\u2500\u2500\u2500\u2500\u2500\u2500\u2500\u2500\u2500\u2500\u2500\u2500\u2500\u2500\u2500\u2500\u2500\u2500\u2500\u2500\u2500\u2500\u2500\u2500\u2500\u2500\u2500\u2500\u2500\u2500\u2500\u2500\u2500\u2500\u2500\u2500\n",
        "\u001b[0m"
       ]
      },
      {
       "output_type": "stream",
       "stream": "stdout",
       "text": [
        "\n"
       ]
      }
     ],
     "prompt_number": 70
    },
    {
     "cell_type": "markdown",
     "metadata": {},
     "source": [
      "###Multivibrator"
     ]
    },
    {
     "cell_type": "code",
     "collapsed": false,
     "input": [
      "# MODE selects the mode of operation of the multivibrator.\n",
      "\n",
      "# Mode No. :  Description\n",
      "#   1          Monostable\n",
      "#   2          Astable\n",
      "#   3          Bistable\n",
      "\n",
      "out = Connector()"
     ],
     "language": "python",
     "metadata": {},
     "outputs": [],
     "prompt_number": 71
    },
    {
     "cell_type": "markdown",
     "metadata": {},
     "source": [
      "#### Multivibrator in mode 1 - Monostable mode"
     ]
    },
    {
     "cell_type": "code",
     "collapsed": false,
     "input": [
      "# Initialize mutivibrator in MODE 1\n",
      "\n",
      "m = Multivibrator(0, mode=1, time_period=1)\n",
      "m.set_output(out)\n",
      "\n",
      "# Initialize the oscilloscope \n",
      "o = Oscilloscope((out, 'OUT'))\n",
      "o.set_scale(0.005)  # Set scale by trial and error.\n",
      "o.set_width(100)\n",
      "o.unhold()\n",
      "time.sleep(0.1)\n",
      "m.trigger()  # Also works with m()\n",
      "time.sleep(0.1)\n",
      "\n",
      "# Display the oscilloscope\n",
      "o.display()\n",
      "m.kill()\n",
      "o.kill()"
     ],
     "language": "python",
     "metadata": {},
     "outputs": [
      {
       "output_type": "stream",
       "stream": "stdout",
       "text": [
        "\u001b[0m\n",
        "\u001b[0m\n",
        "\u001b[0m===================================================================================================================\n",
        "BinPy - Oscilloscope\n",
        "===================================================================================================================\n",
        "                                                                              SCALE - X-AXIS : 1 UNIT WIDTH = 0.005\n",
        "===================================================================================================================\n",
        "          \u2502\n",
        "          \u2502\n",
        "          \u2502                      \u250c\u2500\u2500\u2500\u2500\u2500\u2500\u2500\u2500\u2500\u2500\u2500\u2500\u2500\u2500\u2500\u2500\u2500\u2510                                                            \n",
        "     OUT  \u2502                      \u2502                 \u2502                                                            \n",
        "          \u2500 \u2500\u2500\u2500\u2500\u2500\u2500\u2500\u2500\u2500\u2500\u2500\u2500\u2500\u2500\u2500\u2500\u2500\u2500\u2500\u2500\u2500\u2518                 \u2514\u2500\u2500\u2500\u2500\u2500\u2500\u2500\u2500\u2500\u2500\u2500\u2500\u2500\u2500\u2500\u2500\u2500\u2500\u2500\u2500\u2500\u2500\u2500\u2500\u2500\u2500\u2500\u2500\u2500\u2500\u2500\u2500\u2500\u2500\u2500\u2500\u2500\u2500\u2500\u2500\u2500\u2500\u2500\u2500\u2500\u2500\u2500\u2500\u2500\u2500\u2500\u2500\u2500\u2500\u2500\u2500\u2500\u2500\u2500\u2500\n",
        "          \u2502\n",
        "          \u2502\n",
        "\u2502\u2502\u2502\u2502\u2502\u2502\u2502\u2502\u2502\u2502\u2502\u2502\u2502\u2502\u2502\u2502\u2502\u2502\u2502\u2502\u2502\u2502\u2502\u2502\u2502\u2502\u2502\u2502\u2502\u2502\u2502\u2502\u2502\u2502\u2502\u2502\u2502\u2502\u2502\u2502\u2502\u2502\u2502\u2502\u2502\u2502\u2502\u2502\u2502\u2502\u2502\u2502\u2502\u2502\u2502\u2502\u2502\u2502\u2502\u2502\u2502\u2502\u2502\u2502\u2502\u2502\u2502\u2502\u2502\u2502\u2502\u2502\u2502\u2502\u2502\u2502\u2502\u2502\u2502\u2502\u2502\u2502\u2502\u2502\u2502\u2502\u2502\u2502\u2502\u2502\u2502\u2502\u2502\u2502\u2502\u2502\u2502\u2502\u2502\u2502\u2502\u2502\u2502\u2502\u2502\u2502\u2502\u2502\u2502\u2502\u2502\u2502\u2502\u2502\u2502\n",
        "\u2500\u2500\u2500\u2500\u2500\u2500\u2500\u2500\u2500\u2500\u2500\u2500\u2500\u2500\u2500\u2500\u2500\u2500\u2500\u2500\u2500\u2500\u2500\u2500\u2500\u2500\u2500\u2500\u2500\u2500\u2500\u2500\u2500\u2500\u2500\u2500\u2500\u2500\u2500\u2500\u2500\u2500\u2500\u2500\u2500\u2500\u2500\u2500\u2500\u2500\u2500\u2500\u2500\u2500\u2500\u2500\u2500\u2500\u2500\u2500\u2500\u2500\u2500\u2500\u2500\u2500\u2500\u2500\u2500\u2500\u2500\u2500\u2500\u2500\u2500\u2500\u2500\u2500\u2500\u2500\u2500\u2500\u2500\u2500\u2500\u2500\u2500\u2500\u2500\u2500\u2500\u2500\u2500\u2500\u2500\u2500\u2500\u2500\u2500\u2500\u2500\u2500\u2500\u2500\u2500\u2500\u2500\u2500\u2500\u2500\u2500\u2500\u2500\u2500\u2500\n",
        "\u001b[0m"
       ]
      },
      {
       "output_type": "stream",
       "stream": "stdout",
       "text": [
        "\n"
       ]
      }
     ],
     "prompt_number": 72
    },
    {
     "cell_type": "markdown",
     "metadata": {},
     "source": [
      "###Analog Buffer"
     ]
    },
    {
     "cell_type": "code",
     "collapsed": false,
     "input": [
      "# Source Bus\n",
      "a = Bus(4)\n",
      "a.set_type(analog=True)\n",
      "a.set_voltage_all(3.5, 6.7, 2.2, 1.1)\n",
      "\n",
      "# Ouput Bus\n",
      "b = Bus(4)\n",
      "b.set_type(analog=True)\n",
      "\n",
      "# Enable input\n",
      "e = Bus(1)\n",
      "e.set_logic_all(1)"
     ],
     "language": "python",
     "metadata": {},
     "outputs": [],
     "prompt_number": 73
    },
    {
     "cell_type": "code",
     "collapsed": false,
     "input": [
      "# Initializing an analog Buffer\n",
      "buff1 = AnalogBuffer(a, b, e, 0.8) # With an attenuation of 0.8, relay the input to the output"
     ],
     "language": "python",
     "metadata": {},
     "outputs": [],
     "prompt_number": 74
    },
    {
     "cell_type": "code",
     "collapsed": false,
     "input": [
      "print b.get_voltage_all()"
     ],
     "language": "python",
     "metadata": {},
     "outputs": [
      {
       "output_type": "stream",
       "stream": "stdout",
       "text": [
        "[3.1920379377456842, 6.110472623684595, 2.0064238465830018, 1.0032119232915009]\n"
       ]
      }
     ],
     "prompt_number": 75
    },
    {
     "cell_type": "code",
     "collapsed": false,
     "input": [
      "# BinPy automatically converts the voltage to logic state based on 5v-0v logic\n",
      "print b.get_logic_all()"
     ],
     "language": "python",
     "metadata": {},
     "outputs": [
      {
       "output_type": "stream",
       "stream": "stdout",
       "text": [
        "[1, 1, 0, 0]\n"
       ]
      }
     ],
     "prompt_number": 76
    },
    {
     "cell_type": "code",
     "collapsed": false,
     "input": [
      "print b.get_voltage_all()"
     ],
     "language": "python",
     "metadata": {},
     "outputs": [
      {
       "output_type": "stream",
       "stream": "stdout",
       "text": [
        "[3.1920379377456842, 6.110472623684595, 2.0064238465830018, 1.0032119232915009]\n"
       ]
      }
     ],
     "prompt_number": 77
    },
    {
     "cell_type": "code",
     "collapsed": false,
     "input": [
      "# Changing the input\n",
      "\n",
      "a.set_voltage_all(1,1,1,1)"
     ],
     "language": "python",
     "metadata": {},
     "outputs": [],
     "prompt_number": 78
    },
    {
     "cell_type": "code",
     "collapsed": false,
     "input": [
      "b.get_voltage_all()"
     ],
     "language": "python",
     "metadata": {},
     "outputs": [
      {
       "metadata": {},
       "output_type": "pyout",
       "prompt_number": 79,
       "text": [
        "[0.9120108393559098,\n",
        " 0.9120108393559098,\n",
        " 0.9120108393559098,\n",
        " 0.9120108393559098]"
       ]
      }
     ],
     "prompt_number": 79
    },
    {
     "cell_type": "code",
     "collapsed": false,
     "input": [
      "# Changing the attenuation level\n",
      "\n",
      "buff1.set_attenuation(0)"
     ],
     "language": "python",
     "metadata": {},
     "outputs": [],
     "prompt_number": 80
    },
    {
     "cell_type": "code",
     "collapsed": false,
     "input": [
      "b.get_voltage_all()"
     ],
     "language": "python",
     "metadata": {},
     "outputs": [
      {
       "metadata": {},
       "output_type": "pyout",
       "prompt_number": 81,
       "text": [
        "[1.0, 1.0, 1.0, 1.0]"
       ]
      }
     ],
     "prompt_number": 81
    },
    {
     "cell_type": "markdown",
     "metadata": {},
     "source": [
      "###<a href=\"http://localhost:8888/notebooks/Analog%20Converters.ipynb\">Analog Converters</a>"
     ]
    },
    {
     "cell_type": "markdown",
     "metadata": {},
     "source": [
      "### Analog Signal Generator - Amplitude Modulation using 2 Analog Signal Generators"
     ]
    },
    {
     "cell_type": "code",
     "collapsed": false,
     "input": [
      "# AM Signal generation using 2 intances of Signal Generator modules.\n",
      "\n",
      "import numpy as np\n",
      "%matplotlib inline\n",
      "import matplotlib.pyplot as plt\n",
      "import math, time\n",
      "\n",
      "# Message sine signal generator of frequency 10 Hz and 1 Vpp amplitude\n",
      "m_t = SignalGenerator(typ = 0, freq = 10, ampl = 1)\n",
      "m_t.set_offset(-0.5)\n",
      "\n",
      "# Carrier sine signal generator of frequency 100 Hz and 10 Vpp amplitude\n",
      "c_t = SignalGenerator(typ = 0, freq = 100, ampl = 10)\n",
      "c_t.set_offset(-5) # To make the range as [-5, 5]\n",
      "c_t.set_modulation_input(m_t.outputs)\n",
      "c_t.set_modulation_type(1)\n",
      "\n",
      "time.sleep(0.5) # To allow setup time\n",
      "\n",
      "c_t.last_updated_time, (c_t.outputs[0].voltage - c_t.outputs[1].voltage)\n",
      "\n",
      "# Populate the plot points to data array\n",
      "\n",
      "data = np.zeros(shape = (2, math.ceil(m_t.time_period / c_t.sampling_time_interval)))\n",
      "\n",
      "for i in range(data.shape[1]):\n",
      "    data[0][i] = m_t.last_updated_time + m_t.time_period * i\n",
      "    data[1][i] = c_t.outputs[0].voltage\n",
      "    time.sleep(c_t.sampling_time_interval)\n",
      "\n",
      "# Plot the modulated signal for the given timeframe\n",
      "fig, ax = plt.subplots()\n",
      "ax.plot(data[0], data[1])\n",
      "plt.show()\n",
      "\n",
      "# Kill the signal generator threads after use\n",
      "m_t.kill()\n",
      "c_t.kill()"
     ],
     "language": "python",
     "metadata": {},
     "outputs": [
      {
       "metadata": {},
       "output_type": "display_data",
       "png": "[encoded data removed]",
       "text": [
        "<matplotlib.figure.Figure at 0x7f8c4a44f350>"
       ]
      }
     ],
     "prompt_number": 82
    },
    {
     "cell_type": "markdown",
     "metadata": {},
     "source": [
      "###Boolean Expression parsing / manipulation features of BinPy\n",
      "####Currently the features are spread across 3 different classes<br>\n",
      "####<a href=\"make_bool_QM.ipynb\">Make Boolean - An application of Quine Mclusky logic minimization algorithm</a><br>\n",
      "####<a href=\"Expr.ipynb\">Expression Class with Truth table generation</a><br>\n",
      "####<a href=\"exp_conv.ipynb\">Second Expression convert module with NAND only / NOR only output support</a><br>"
     ]
    }
   ],
   "metadata": {}
  }
 ]
}