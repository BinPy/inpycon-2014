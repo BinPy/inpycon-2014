{
 "metadata": {
  "name": "",
  "signature": "sha256:5cedc55e688949bbc3a1f5a2b6e0ca28d33724f26a45d9e5e4d6c0b29db2dba6"
 },
 "nbformat": 3,
 "nbformat_minor": 0,
 "worksheets": [
  {
   "cells": [
    {
     "cell_type": "heading",
     "level": 2,
     "metadata": {},
     "source": [
      "Examples for Expr class"
     ]
    },
    {
     "cell_type": "code",
     "collapsed": false,
     "input": [
      "# imports\n",
      "from __future__ import print_function\n",
      "from BinPy.dev import *"
     ],
     "language": "python",
     "metadata": {},
     "outputs": [],
     "prompt_number": 1
    },
    {
     "cell_type": "code",
     "collapsed": false,
     "input": [
      "# Initializing the Expr class\n",
      "\n",
      "expr = Expr('A & B | C')\n",
      "\n",
      "# Parsing the expression\n",
      "\n",
      "print (expr.parse())"
     ],
     "language": "python",
     "metadata": {},
     "outputs": [
      {
       "output_type": "stream",
       "stream": "stdout",
       "text": [
        "AND(OR(C, B), A)\n"
       ]
      }
     ],
     "prompt_number": 2
    },
    {
     "cell_type": "code",
     "collapsed": false,
     "input": [
      "# Alternate way of defining an expression\n",
      "\n",
      "# Input is of the format: Expr(expression, variables)\n",
      "\n",
      "expr1 = Expr('AND(NOT(A), B)', 'A', 'B')\n",
      "\n",
      "print (expr.parse())"
     ],
     "language": "python",
     "metadata": {},
     "outputs": [
      {
       "output_type": "stream",
       "stream": "stdout",
       "text": [
        "AND(OR(C, B), A)\n"
       ]
      }
     ],
     "prompt_number": 3
    },
    {
     "cell_type": "code",
     "collapsed": false,
     "input": [
      "# Printing the truth table\n",
      "\n",
      "print(expr.truthTable())"
     ],
     "language": "python",
     "metadata": {},
     "outputs": [
      {
       "output_type": "stream",
       "stream": "stdout",
       "text": [
        "A B C O\n",
        "0 0 0 0\n",
        "0 0 1 0\n",
        "0 1 0 0\n",
        "0 1 1 0\n",
        "1 0 0 0\n",
        "1 0 1 1\n",
        "1 1 0 1\n",
        "1 1 1 1\n",
        "None\n"
       ]
      }
     ],
     "prompt_number": 4
    }
   ],
   "metadata": {}
  }
 ]
}